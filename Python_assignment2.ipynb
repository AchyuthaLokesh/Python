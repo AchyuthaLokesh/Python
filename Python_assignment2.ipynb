{
  "cells": [
    {
      "cell_type": "markdown",
      "metadata": {
        "id": "view-in-github",
        "colab_type": "text"
      },
      "source": [
        "<a href=\"https://colab.research.google.com/github/AchyuthaLokesh/Python/blob/main/Python_assignment2.ipynb\" target=\"_parent\"><img src=\"https://colab.research.google.com/assets/colab-badge.svg\" alt=\"Open In Colab\"/></a>"
      ]
    },
    {
      "cell_type": "code",
      "execution_count": null,
      "metadata": {
        "colab": {
          "base_uri": "https://localhost:8080/"
        },
        "id": "lnrEyp2EogoI",
        "outputId": "02756edc-393d-40ac-938f-7eb3ac2b0204"
      },
      "outputs": [
        {
          "name": "stdout",
          "output_type": "stream",
          "text": [
            "1 7\n",
            "[2, 3, 9, 11]\n",
            "[1, 2, 9, 3, 9, 11, 6, 7, 8]\n",
            "[1, 9, 9, 11, 6, 7, 8]\n",
            "False\n",
            "7\n",
            "[1, 9, 9, 11, 6, 7, 8]\n",
            "[1, 6, 7, 8, 9, 9, 11]\n",
            "[1, 3, 3, 4, 5, 6, 8, 9]\n",
            "[9, 8, 6, 5, 4, 3, 3, 1]\n",
            "[1, 3, 3, 4, 5, 6, 8, 9]\n",
            "[1, 3, 4, 5, 6, 8, 9]\n",
            "9\n",
            "1\n",
            "False\n",
            "[1, 5, [2, 3], [4, 5, 6]]\n"
          ]
        }
      ],
      "source": [
        "empty_list=[]\n",
        "my_list=[1,2,3,9,11,6,7]\n",
        "print(my_list[0],my_list[-1])\n",
        "sub_list=my_list[1:5]\n",
        "print(sub_list)\n",
        "my_list.append(8)\n",
        "my_list.insert(2,9)\n",
        "print(my_list)\n",
        "my_list.remove(2)\n",
        "my_list.pop(2)\n",
        "print(my_list)\n",
        "x=4 in my_list\n",
        "print(x)\n",
        "print(len(my_list))\n",
        "print(my_list)\n",
        "x=len(my_list)\n",
        "for i in range(x):\n",
        "  for j in range(x-i-1):\n",
        "    if my_list[j]>my_list[j+1]:\n",
        "      my_list[j],my_list[j+1]=my_list[j+1],my_list[j]\n",
        "print(my_list)\n",
        "new_list=[9,5,3,6,8,1,3,4]\n",
        "new_list.sort()\n",
        "print(new_list)\n",
        "new_list.sort(reverse=True)\n",
        "print (new_list)\n",
        "new_list.reverse()\n",
        "print(new_list)\n",
        "print(list(set(new_list)))\n",
        "print(max(new_list))\n",
        "print(min(new_list))\n",
        "print(new_list==my_list)\n",
        "nest_list=[1,5,[2,3],[4,5,6]]\n",
        "print(nest_list)"
      ]
    },
    {
      "cell_type": "code",
      "execution_count": null,
      "metadata": {
        "colab": {
          "base_uri": "https://localhost:8080/"
        },
        "id": "t8Af079_583D",
        "outputId": "465f98cd-ad78-47e6-c29d-979ccc32e409"
      },
      "outputs": [
        {
          "output_type": "stream",
          "name": "stdout",
          "text": [
            "2\n",
            "hiHello\n",
            "h\n",
            "Hel\n",
            "HIHELLO\n",
            "hihello\n",
            "hi exists\n",
            "hiworld\n",
            "['h', 'i', 'w', 'o', 'r', 'l', 'd']\n",
            "hiworld\n",
            "the string is not a palindrome\n",
            "2\n",
            "4\n",
            "olleHih\n",
            "False\n",
            "True\n",
            "enter e-mail addressklu.ac.in\n",
            "this is a valid e-mail address\n",
            "b'hello world'\n",
            "hello world\n"
          ]
        }
      ],
      "source": [
        "string=\"hi\"\n",
        "print(len(string))\n",
        "new_string=string+\"Hello\"\n",
        "print(new_string)\n",
        "print(string[0])\n",
        "print(new_string[2:5])\n",
        "print(new_string.upper())\n",
        "print(new_string.lower())\n",
        "if \"hi\" in new_string:\n",
        "  print(\"hi exists\")\n",
        "my_string=new_string.replace(\"Hello\",\"world\")\n",
        "print(my_string)\n",
        "x=len(my_string)\n",
        "list=[]\n",
        "for i in range(x):\n",
        "  list.append(my_string[i])\n",
        "print(list)\n",
        "string=\"\".join(list)\n",
        "print(string)\n",
        "my_string=\"hello world\"\n",
        "##stripped_string = my_string.strip()\n",
        "##print(stripped_string)\n",
        "if my_string==new_string:\n",
        "  print(\"the string is palindrome\")\n",
        "else:\n",
        "  print(\"the string is not a palindrome\")\n",
        "print(new_string.count(\"l\"))\n",
        "print(new_string.index(\"l\"))\n",
        "print(new_string[::-1])\n",
        "print(new_string.isdigit())\n",
        "print(new_string.isalpha())\n",
        "y=input(\"enter e-mail address\")\n",
        "if \".com\" or \".in\" in y:\n",
        "  print(\"this is a valid e-mail address\")\n",
        "else:\n",
        "  print(\"this is not a valid e-mail address\")\n",
        "encoded_string=my_string.encode(\"utf-8\")\n",
        "print(encoded_string)\n",
        "decoded_string=encoded_string.decode(\"utf-8\")\n",
        "print(decoded_string)"
      ]
    },
    {
      "cell_type": "code",
      "source": [
        "tuple=(1,\"h\",[1,2,3])\n",
        "print(tuple)\n",
        "print(tuple[2])\n",
        "new_tuple=tuple+(4,7)\n",
        "print(new_tuple)\n",
        "my_tuple=(1,2,3)\n",
        "print(my_tuple*5)\n",
        "if 4 in my_tuple:\n",
        "  print(\"4 exists\")\n",
        "else:\n",
        "  print(\"4 doesn't exists\")\n",
        "print(len(my_tuple))\n",
        "for i in range(len(my_tuple)):\n",
        "  print(i)\n",
        "my_list=list(my_tuple)\n",
        "print(my_list)\n",
        "my_tuple=tuple(my_list)\n",
        "print(my_tuple)\n",
        "print(max(my_tuple))\n",
        "print(min(my_tuple))\n",
        "my_list=[1, 2, 3]\n",
        "nested_tuple=(1,2,3,(4,5,6))\n",
        "print(nested_tuple)"
      ],
      "metadata": {
        "colab": {
          "base_uri": "https://localhost:8080/",
          "height": 453
        },
        "id": "O7BGEQ9UC-ov",
        "outputId": "4c525581-dd06-4ce3-c387-12f3e8d4dfe8"
      },
      "execution_count": null,
      "outputs": [
        {
          "output_type": "stream",
          "name": "stdout",
          "text": [
            "(1, 'h', [1, 2, 3])\n",
            "[1, 2, 3]\n",
            "(1, 'h', [1, 2, 3], 4, 7)\n",
            "(1, 2, 3, 1, 2, 3, 1, 2, 3, 1, 2, 3, 1, 2, 3)\n",
            "4 doesn't exists\n",
            "3\n",
            "0\n",
            "1\n",
            "2\n",
            "[1, 2, 3]\n",
            "3\n",
            "1\n",
            "(1, 2, 3, (4, 5, 6))\n"
          ]
        },
        {
          "output_type": "error",
          "ename": "TypeError",
          "evalue": "ignored",
          "traceback": [
            "\u001b[0;31m---------------------------------------------------------------------------\u001b[0m",
            "\u001b[0;31mTypeError\u001b[0m                                 Traceback (most recent call last)",
            "\u001b[0;32m<ipython-input-17-62b1e5f6d4c1>\u001b[0m in \u001b[0;36m<cell line: 22>\u001b[0;34m()\u001b[0m\n\u001b[1;32m     20\u001b[0m \u001b[0mnested_tuple\u001b[0m\u001b[0;34m=\u001b[0m\u001b[0;34m(\u001b[0m\u001b[0;36m1\u001b[0m\u001b[0;34m,\u001b[0m\u001b[0;36m2\u001b[0m\u001b[0;34m,\u001b[0m\u001b[0;36m3\u001b[0m\u001b[0;34m,\u001b[0m\u001b[0;34m(\u001b[0m\u001b[0;36m4\u001b[0m\u001b[0;34m,\u001b[0m\u001b[0;36m5\u001b[0m\u001b[0;34m,\u001b[0m\u001b[0;36m6\u001b[0m\u001b[0;34m)\u001b[0m\u001b[0;34m)\u001b[0m\u001b[0;34m\u001b[0m\u001b[0;34m\u001b[0m\u001b[0m\n\u001b[1;32m     21\u001b[0m \u001b[0mprint\u001b[0m\u001b[0;34m(\u001b[0m\u001b[0mnested_tuple\u001b[0m\u001b[0;34m)\u001b[0m\u001b[0;34m\u001b[0m\u001b[0;34m\u001b[0m\u001b[0m\n\u001b[0;32m---> 22\u001b[0;31m \u001b[0mmy_tuple\u001b[0m\u001b[0;34m=\u001b[0m\u001b[0mtuple\u001b[0m\u001b[0;34m(\u001b[0m\u001b[0mmy_list\u001b[0m\u001b[0;34m)\u001b[0m\u001b[0;34m\u001b[0m\u001b[0;34m\u001b[0m\u001b[0m\n\u001b[0m\u001b[1;32m     23\u001b[0m \u001b[0mprint\u001b[0m\u001b[0;34m(\u001b[0m\u001b[0mmy_tuple\u001b[0m\u001b[0;34m)\u001b[0m\u001b[0;34m\u001b[0m\u001b[0;34m\u001b[0m\u001b[0m\n",
            "\u001b[0;31mTypeError\u001b[0m: 'tuple' object is not callable"
          ]
        }
      ]
    },
    {
      "cell_type": "code",
      "source": [
        "my_set={3,4,5,6}\n",
        "print(my_set)\n",
        "print(my_set|{7,1})\n",
        "print(my_set&{3,4})\n",
        "print(my_set-{5,4})\n",
        "if 4 in my_set:\n",
        "  print(\"4 exists\")\n",
        "else:\n",
        "  print(\"4 not exists\")\n",
        "add_set=(my_set.add(0))\n",
        "print(add_set)\n",
        "remove_set=my_set.remove(3)\n",
        "print(remove_set)\n",
        "print(len(my_set))\n",
        "for i in my_set:\n",
        "  print(i)\n",
        "if ({1,4}.issubset(my_set)):\n",
        "  print(\"it is a subset\")\n",
        "else:\n",
        "  print(\"it is not a subset\")\n",
        "if {3,4}.isdisjoint(my_set):\n",
        "  print(\"it is a disjointset\")\n",
        "else:\n",
        "  print(\"it is not a disjointset\")\n",
        "frozen_set=frozenset(my_set)\n",
        "print(frozen_set)\n",
        "print(len(frozen_set))\n",
        "print(frozen_set.remove(3))"
      ],
      "metadata": {
        "colab": {
          "base_uri": "https://localhost:8080/",
          "height": 487
        },
        "id": "dGjf5f4nHRCo",
        "outputId": "9a539972-46bd-4230-b367-a7f2619b9464"
      },
      "execution_count": null,
      "outputs": [
        {
          "output_type": "stream",
          "name": "stdout",
          "text": [
            "{3, 4, 5, 6}\n",
            "{1, 3, 4, 5, 6, 7}\n",
            "{3, 4}\n",
            "{3, 6}\n",
            "4 exists\n",
            "None\n",
            "None\n",
            "4\n",
            "0\n",
            "4\n",
            "5\n",
            "6\n",
            "it is not a subset\n",
            "it is not a disjointset\n",
            "frozenset({0, 4, 5, 6})\n",
            "4\n"
          ]
        },
        {
          "output_type": "error",
          "ename": "AttributeError",
          "evalue": "ignored",
          "traceback": [
            "\u001b[0;31m---------------------------------------------------------------------------\u001b[0m",
            "\u001b[0;31mAttributeError\u001b[0m                            Traceback (most recent call last)",
            "\u001b[0;32m<ipython-input-39-b047ed1a86ec>\u001b[0m in \u001b[0;36m<cell line: 28>\u001b[0;34m()\u001b[0m\n\u001b[1;32m     26\u001b[0m \u001b[0mprint\u001b[0m\u001b[0;34m(\u001b[0m\u001b[0mfrozen_set\u001b[0m\u001b[0;34m)\u001b[0m\u001b[0;34m\u001b[0m\u001b[0;34m\u001b[0m\u001b[0m\n\u001b[1;32m     27\u001b[0m \u001b[0mprint\u001b[0m\u001b[0;34m(\u001b[0m\u001b[0mlen\u001b[0m\u001b[0;34m(\u001b[0m\u001b[0mfrozen_set\u001b[0m\u001b[0;34m)\u001b[0m\u001b[0;34m)\u001b[0m\u001b[0;34m\u001b[0m\u001b[0;34m\u001b[0m\u001b[0m\n\u001b[0;32m---> 28\u001b[0;31m \u001b[0mprint\u001b[0m\u001b[0;34m(\u001b[0m\u001b[0mfrozen_set\u001b[0m\u001b[0;34m.\u001b[0m\u001b[0mremove\u001b[0m\u001b[0;34m(\u001b[0m\u001b[0;36m3\u001b[0m\u001b[0;34m)\u001b[0m\u001b[0;34m)\u001b[0m\u001b[0;34m\u001b[0m\u001b[0;34m\u001b[0m\u001b[0m\n\u001b[0m",
            "\u001b[0;31mAttributeError\u001b[0m: 'frozenset' object has no attribute 'remove'"
          ]
        }
      ]
    },
    {
      "cell_type": "code",
      "source": [
        "dict={\"Name\":\"Lokesh\",\"Age\":19,\"Occupation\":\"Student\"}\n",
        "print(dict)\n",
        "print(dict[\"Name\"])\n",
        "dict[\"Gender\"]=\"Male\"\n",
        "print(dict)\n",
        "dict[\"Age\"]=dict[\"Age\"]+1\n",
        "print(dict[\"Age\"])\n",
        "del dict[\"Occupation\"]\n",
        "print(dict)\n",
        "if \"Age\" in dict:\n",
        "  print(\"Age =\",dict[\"Age\"])\n",
        "else:\n",
        "  print(\"Age does't exist\")\n",
        "print(dict.keys)\n",
        "print(dict.values)\n",
        "for key, value in dict.items():\n",
        "  print(key,value)\n",
        "my_dict={\"mobile\":123456789,\"mail\":\"abc@gmail.com\"}\n",
        "new_dict={**dict,**my_dict}\n",
        "print(new_dict)\n",
        "print(len(dict))\n",
        "str_list_dict={\"names\": [\"Alice\", \"Bob\"],\"Age\":[19,20]}\n",
        "print(str_list_dict)"
      ],
      "metadata": {
        "id": "idEpJ-95L0BQ",
        "colab": {
          "base_uri": "https://localhost:8080/"
        },
        "outputId": "d5749484-a095-4fa8-8413-c4fe2ab9cc8b"
      },
      "execution_count": null,
      "outputs": [
        {
          "output_type": "stream",
          "name": "stdout",
          "text": [
            "{'Name': 'Lokesh', 'Age': 19, 'Occupation': 'Student'}\n",
            "Lokesh\n",
            "{'Name': 'Lokesh', 'Age': 19, 'Occupation': 'Student', 'Gender': 'Male'}\n",
            "20\n",
            "{'Name': 'Lokesh', 'Age': 20, 'Gender': 'Male'}\n",
            "Age = 20\n",
            "<built-in method keys of dict object at 0x7a58aead8700>\n",
            "<built-in method values of dict object at 0x7a58aead8700>\n",
            "Name Lokesh\n",
            "Age 20\n",
            "Gender Male\n",
            "{'Name': 'Lokesh', 'Age': 20, 'Gender': 'Male', 'mobile': 123456789, 'mail': 'abc@gmail.com'}\n",
            "3\n",
            "{'names': ['Alice', 'Bob'], 'Age': [19, 20]}\n"
          ]
        }
      ]
    },
    {
      "cell_type": "code",
      "source": [
        "my_list=[\"Alice\",\"Bob\",\"Jhon\",\"Wick\"]\n",
        "print(len(my_list))\n",
        "print(my_list[0:3])\n",
        "print(my_list[::-1])\n",
        "print(sorted(my_list))\n",
        "unique_list=list(set(my_list))\n",
        "print(unique_list)\n",
        "if \"Alice\" in my_list:\n",
        "  print(\"Alice exists\")\n",
        "else:\n",
        "  print(\"Alice does't exists\")\n",
        "print(my_list.index(\"Bob\"))\n",
        "dict={\"Alice\":len(\"Alice\"),\"Bob\":len(\"Bob\"),\"Jhon\":len(\"Jhon\"),\"Wick\":len(\"Wick\")}\n",
        "print(dict)\n",
        "set={\"Alice\",\"Adam\",\"Alex\",\"Abel\"}\n",
        "print(set)\n",
        "Concatenated_string=\"\"\n",
        "for i in set:\n",
        "  Concatenated_string=Concatenated_string+i\n",
        "print(Concatenated_string)"
      ],
      "metadata": {
        "colab": {
          "base_uri": "https://localhost:8080/",
          "height": 314
        },
        "id": "vmtx4iMORAR1",
        "outputId": "e53b3307-6faa-485f-c031-dd024a2be52e"
      },
      "execution_count": null,
      "outputs": [
        {
          "output_type": "stream",
          "name": "stdout",
          "text": [
            "4\n",
            "['Alice', 'Bob', 'Jhon']\n",
            "['Wick', 'Jhon', 'Bob', 'Alice']\n",
            "['Alice', 'Bob', 'Jhon', 'Wick']\n"
          ]
        },
        {
          "output_type": "error",
          "ename": "TypeError",
          "evalue": "ignored",
          "traceback": [
            "\u001b[0;31m---------------------------------------------------------------------------\u001b[0m",
            "\u001b[0;31mTypeError\u001b[0m                                 Traceback (most recent call last)",
            "\u001b[0;32m<ipython-input-29-3bfecc4ac1f4>\u001b[0m in \u001b[0;36m<cell line: 6>\u001b[0;34m()\u001b[0m\n\u001b[1;32m      4\u001b[0m \u001b[0mprint\u001b[0m\u001b[0;34m(\u001b[0m\u001b[0mmy_list\u001b[0m\u001b[0;34m[\u001b[0m\u001b[0;34m:\u001b[0m\u001b[0;34m:\u001b[0m\u001b[0;34m-\u001b[0m\u001b[0;36m1\u001b[0m\u001b[0;34m]\u001b[0m\u001b[0;34m)\u001b[0m\u001b[0;34m\u001b[0m\u001b[0;34m\u001b[0m\u001b[0m\n\u001b[1;32m      5\u001b[0m \u001b[0mprint\u001b[0m\u001b[0;34m(\u001b[0m\u001b[0msorted\u001b[0m\u001b[0;34m(\u001b[0m\u001b[0mmy_list\u001b[0m\u001b[0;34m)\u001b[0m\u001b[0;34m)\u001b[0m\u001b[0;34m\u001b[0m\u001b[0;34m\u001b[0m\u001b[0m\n\u001b[0;32m----> 6\u001b[0;31m \u001b[0munique_list\u001b[0m\u001b[0;34m=\u001b[0m\u001b[0mlist\u001b[0m\u001b[0;34m(\u001b[0m\u001b[0mset\u001b[0m\u001b[0;34m(\u001b[0m\u001b[0mmy_list\u001b[0m\u001b[0;34m)\u001b[0m\u001b[0;34m)\u001b[0m\u001b[0;34m\u001b[0m\u001b[0;34m\u001b[0m\u001b[0m\n\u001b[0m\u001b[1;32m      7\u001b[0m \u001b[0mprint\u001b[0m\u001b[0;34m(\u001b[0m\u001b[0munique_list\u001b[0m\u001b[0;34m)\u001b[0m\u001b[0;34m\u001b[0m\u001b[0;34m\u001b[0m\u001b[0m\n\u001b[1;32m      8\u001b[0m \u001b[0;32mif\u001b[0m \u001b[0;34m\"Alice\"\u001b[0m \u001b[0;32min\u001b[0m \u001b[0mmy_list\u001b[0m\u001b[0;34m:\u001b[0m\u001b[0;34m\u001b[0m\u001b[0;34m\u001b[0m\u001b[0m\n",
            "\u001b[0;31mTypeError\u001b[0m: 'set' object is not callable"
          ]
        }
      ]
    }
  ],
  "metadata": {
    "colab": {
      "provenance": [],
      "toc_visible": true,
      "authorship_tag": "ABX9TyPykkpGTpJfml7C71OOFGKT",
      "include_colab_link": true
    },
    "kernelspec": {
      "display_name": "Python 3",
      "name": "python3"
    },
    "language_info": {
      "name": "python"
    }
  },
  "nbformat": 4,
  "nbformat_minor": 0
}