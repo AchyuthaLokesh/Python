{
  "nbformat": 4,
  "nbformat_minor": 0,
  "metadata": {
    "colab": {
      "provenance": [],
      "authorship_tag": "ABX9TyMjBGkt0wETZugXNH2NJzKi",
      "include_colab_link": true
    },
    "kernelspec": {
      "name": "python3",
      "display_name": "Python 3"
    },
    "language_info": {
      "name": "python"
    }
  },
  "cells": [
    {
      "cell_type": "markdown",
      "metadata": {
        "id": "view-in-github",
        "colab_type": "text"
      },
      "source": [
        "<a href=\"https://colab.research.google.com/github/AchyuthaLokesh/Python/blob/main/PYTHON_ASSIGNMENT4.ipynb\" target=\"_parent\"><img src=\"https://colab.research.google.com/assets/colab-badge.svg\" alt=\"Open In Colab\"/></a>"
      ]
    },
    {
      "cell_type": "code",
      "execution_count": 1,
      "metadata": {
        "colab": {
          "base_uri": "https://localhost:8080/"
        },
        "id": "zQSgdk0To5et",
        "outputId": "3c234f47-d44f-4d8a-b1d8-742d36b078ab"
      },
      "outputs": [
        {
          "output_type": "stream",
          "name": "stdout",
          "text": [
            "Your bank account has been credited by 600\n",
            "Your balance is 1100\n",
            "Insufficient balance\n"
          ]
        }
      ],
      "source": [
        "# Define a class named Bank_account\n",
        "class Bank_account:\n",
        "    # Initialize the class with account_holder, account_number, and an optional balance (default is 0)\n",
        "    def __init__(self, account_holder, account_number, balance=0):\n",
        "        self.account_holder = account_holder\n",
        "        self.account_number = account_number\n",
        "        self.balance = balance\n",
        "\n",
        "    # Define a method for depositing money into the account\n",
        "    def deposit(self, account_number, deposit_money):\n",
        "        # Increase the balance by the deposited amount\n",
        "        self.balance += deposit_money\n",
        "        # Print a message indicating the deposit and the current balance\n",
        "        print(f\"Your bank account has been credited by {deposit_money}\")\n",
        "        print(f\"Your balance is {self.balance}\")\n",
        "\n",
        "    # Define a method for withdrawing money from the account\n",
        "    def withdraw(self, account_number, withdraw_amount):\n",
        "        # Check if there is enough balance for the withdrawal\n",
        "        if self.balance < withdraw_amount:\n",
        "            # Print a message for insufficient balance if withdrawal amount is greater than the balance\n",
        "            print(\"Insufficient balance\")\n",
        "        else:\n",
        "            # Deduct the withdrawal amount from the balance\n",
        "            self.balance -= withdraw_amount\n",
        "            # Print a message indicating the withdrawal and the current balance\n",
        "            print(f\"Your bank account has been deducted by {withdraw_amount}\")\n",
        "            print(f\"Your balance is {self.balance}\")\n",
        "\n",
        "# Create an instance of the Bank_account class with an initial balance of 500\n",
        "bank_account = Bank_account(\"Lokesh\", 123456, 500)\n",
        "\n",
        "# Deposit 600 into the account\n",
        "bank_account.deposit(123456, 600)\n",
        "\n",
        "# Withdraw 1200 from the account\n",
        "bank_account.withdraw(123456, 1200)"
      ]
    },
    {
      "cell_type": "code",
      "source": [
        "# Define a class named password_manager\n",
        "class password_manager:\n",
        "    # Initialize the class with a username and a password\n",
        "    def __init__(self, username, password):\n",
        "        self.password = password\n",
        "\n",
        "    # Define a method to set a new password\n",
        "    def set_password(self, new_password):\n",
        "        # Check if the current password is too short (less than 8 characters)\n",
        "        if len(self.password) < 8:\n",
        "            print(\"Your password is too short\")\n",
        "        else:\n",
        "            print(\"Password created successfully\")\n",
        "\n",
        "    # Define a method to reset the password to a new value\n",
        "    def reset_password(self, new_password):\n",
        "        self.password = new_password\n",
        "\n",
        "    # Define a method to validate if a given input matches the current password\n",
        "    def validate_password(self, input):\n",
        "        # Check if the input matches the current password\n",
        "        if input == self.password:\n",
        "            print(\"Password matched\")\n",
        "        else:\n",
        "            print(\"Password mismatched, please try again\")\n",
        "\n",
        "# Create an instance of the password_manager class with a username \"Lokesh\" and an initial password \"123456789\"\n",
        "password = password_manager(\"Lokesh\", \"123456789\")\n",
        "\n",
        "# Set a new password (this will print a message based on the length of the current password)\n",
        "password.set_password(\"123456789\")\n",
        "\n",
        "# Reset the password to a new value \"987654321\"\n",
        "password.reset_password(\"987654321\")\n",
        "\n",
        "# Validate if a given input \"123456789\" matches the current password\n",
        "password.validate_password(\"123456789\")"
      ],
      "metadata": {
        "colab": {
          "base_uri": "https://localhost:8080/"
        },
        "id": "R07GRovQpTip",
        "outputId": "11677a16-ddf0-4f9f-8c3e-9d6a4b3ad3d2"
      },
      "execution_count": null,
      "outputs": [
        {
          "output_type": "stream",
          "name": "stdout",
          "text": [
            "password created successfully\n",
            "password mismatched please try again\n"
          ]
        }
      ]
    },
    {
      "cell_type": "code",
      "source": [
        "# Define a base class named Shape\n",
        "class Shape:\n",
        "    # Define a method to calculate the area (returns 0 by default)\n",
        "    def area(self):\n",
        "        return 0\n",
        "\n",
        "# Define a derived class named Circle, inheriting from Shape\n",
        "class Circle(Shape):\n",
        "    # Constructor to initialize the radius\n",
        "    def __init__(self, radius):\n",
        "        self.radius = radius\n",
        "\n",
        "    # Override the area method to calculate the area of the circle\n",
        "    def area(self):\n",
        "        return 3.14 * self.radius * self.radius\n",
        "\n",
        "# Define another derived class named Rectangle, inheriting from Shape\n",
        "class Rectangle(Shape):\n",
        "    # Constructor to initialize the length and width\n",
        "    def __init__(self, length, width):\n",
        "        self.length = length\n",
        "        self.width = width\n",
        "\n",
        "    # Override the area method to calculate the area of the rectangle\n",
        "    def area(self):\n",
        "        return self.length * self.width\n",
        "\n",
        "# Create an instance of the Circle class with a radius of 5\n",
        "circle = Circle(5)\n",
        "\n",
        "# Create an instance of the Rectangle class with a length of 4 and a width of 6\n",
        "rectangle = Rectangle(4, 6)\n",
        "\n",
        "# Print the areas of the Circle and Rectangle using polymorphism\n",
        "print(f\"Area of the Circle: {circle.area()}\")\n",
        "print(f\"Area of the Rectangle: {rectangle.area()}\")\n"
      ],
      "metadata": {
        "colab": {
          "base_uri": "https://localhost:8080/"
        },
        "id": "Yd9WJgduA1QB",
        "outputId": "db69dcb2-0795-4542-da8b-cbaabccc256c"
      },
      "execution_count": null,
      "outputs": [
        {
          "output_type": "stream",
          "name": "stdout",
          "text": [
            "Area of the Circle: 78.5\n",
            "Area of the Rectangle: 24\n"
          ]
        }
      ]
    },
    {
      "cell_type": "code",
      "source": [
        "# Define a base class named animal\n",
        "class animal:\n",
        "    # Define a method to make an animal speak (returns \"Hello\" by default)\n",
        "    def speak(self):\n",
        "        return \"Hello\"\n",
        "\n",
        "# Define a derived class named dog, inheriting from animal\n",
        "class dog(animal):\n",
        "    # Override the speak method to make a dog bark\n",
        "    def speak(self):\n",
        "        return \"Woof\"\n",
        "\n",
        "# Define another derived class named cat, inheriting from animal\n",
        "class cat(animal):\n",
        "    # Override the speak method to make a cat meow\n",
        "    def speak(self):\n",
        "        return \"Meow\"\n",
        "\n",
        "# Create an instance of the animal class\n",
        "generic_animal = animal()\n",
        "\n",
        "# Create an instance of the dog class\n",
        "Dog = dog()\n",
        "\n",
        "# Create an instance of the cat class\n",
        "Cat = cat()\n",
        "\n",
        "# Print the output of the speak method for each instance\n",
        "print(generic_animal.speak())  # Output: \"Hello\"\n",
        "print(Dog.speak())             # Output: \"Woof\"\n",
        "print(Cat.speak())             # Output: \"Meow\""
      ],
      "metadata": {
        "colab": {
          "base_uri": "https://localhost:8080/"
        },
        "id": "RlFDNlK2cEwl",
        "outputId": "10404cec-9f2f-48d5-9ef0-3ea02fde1bb3"
      },
      "execution_count": null,
      "outputs": [
        {
          "output_type": "stream",
          "name": "stdout",
          "text": [
            "Hello\n",
            "Boow\n",
            "meow\n"
          ]
        }
      ]
    },
    {
      "cell_type": "code",
      "source": [
        "# Define a class named Car\n",
        "class Car:\n",
        "    def __init__(self, model, year):\n",
        "        self.model = model\n",
        "        self.year = year\n",
        "\n",
        "    def describe(self):\n",
        "        print(f\"This is a {self.year} {self.model}.\")\n",
        "\n",
        "# Define a class named Boat\n",
        "class Boat:\n",
        "    def __init__(self, brand, length, year):\n",
        "        self.brand = brand\n",
        "        self.length = length\n",
        "        self.year = year\n",
        "\n",
        "    def describe(self):\n",
        "        print(f\"This is a {self.year} {self.brand} boat with a length of {self.length} feet.\")\n",
        "\n",
        "# Define a function to describe a vehicle\n",
        "def describe_vehicle(vehicle):\n",
        "    # Check if the vehicle has a 'describe' method\n",
        "    if hasattr(vehicle, 'describe') and callable(getattr(vehicle, 'describe')):\n",
        "        # Call the 'describe' method of the vehicle\n",
        "        vehicle.describe()\n",
        "    else:\n",
        "        # Print a message if the vehicle does not have a 'describe' method\n",
        "        print(\"This vehicle does not have a describe method.\")\n",
        "\n",
        "# Create an instance of the Car class\n",
        "my_car = Car('Camry', 2022)\n",
        "\n",
        "# Create an instance of the Boat class\n",
        "my_boat = Boat(brand='Sailboat Inc.', length=30, year=2021)\n",
        "\n",
        "# Call the describe_vehicle function with the Car and Boat instances\n",
        "describe_vehicle(my_car)\n",
        "describe_vehicle(my_boat)\n",
        "\n",
        "# Call the describe_vehicle function with a string (not a vehicle instance)\n",
        "describe_vehicle(\"Not a vehicle\")\n"
      ],
      "metadata": {
        "id": "dFZnVyQYejE-",
        "colab": {
          "base_uri": "https://localhost:8080/"
        },
        "outputId": "dda1ef84-45bf-475e-d82f-f0e5de48a361"
      },
      "execution_count": 2,
      "outputs": [
        {
          "output_type": "stream",
          "name": "stdout",
          "text": [
            "This is a 2022 Camry.\n",
            "This is a 2021 Sailboat Inc. boat with a length of 30 feet.\n",
            "This vehicle does not have a describe method.\n"
          ]
        }
      ]
    },
    {
      "cell_type": "code",
      "source": [
        "# Define a base class named calculator\n",
        "class Calculator:\n",
        "    def __init__(self, x, y):\n",
        "        self.x = x\n",
        "        self.y = y\n",
        "\n",
        "# Define a class named adder, inheriting from calculator\n",
        "class Adder(Calculator):\n",
        "    def add(self):\n",
        "        return self.x + self.y\n",
        "\n",
        "# Define a class named multiplier, inheriting from calculator\n",
        "class Multiplier(Calculator):\n",
        "    def multiply(self):\n",
        "        return self.x * self.y\n",
        "\n",
        "# Create an instance of the Calculator class (not necessary for this code, can be removed)\n",
        "# calculator_instance = Calculator(4, 5)\n",
        "\n",
        "# Create an instance of the Adder class\n",
        "sum_instance = Adder(4, 5)\n",
        "\n",
        "# Create an instance of the Multiplier class\n",
        "product_instance = Multiplier(4, 5)\n",
        "\n",
        "# Calculate the sum using the adder method and store the result in the 'result' attribute\n",
        "sum_instance.result = sum_instance.add()\n",
        "\n",
        "# Calculate the product using the multiplier method and store the result in the 'result' attribute\n",
        "product_instance.result = product_instance.multiply()\n",
        "\n",
        "# Print the results\n",
        "print(\"Sum:\", sum_instance.result)\n",
        "print(\"Product:\", product_instance.result)\n"
      ],
      "metadata": {
        "colab": {
          "base_uri": "https://localhost:8080/"
        },
        "id": "10RjVGOVNV37",
        "outputId": "8df9f67a-a40e-4eb5-8334-c50d2653b830"
      },
      "execution_count": null,
      "outputs": [
        {
          "output_type": "stream",
          "name": "stdout",
          "text": [
            "20\n",
            "9\n"
          ]
        }
      ]
    },
    {
      "cell_type": "code",
      "source": [
        "# Define a class named TempSensor\n",
        "class TempSensor:\n",
        "    def __init__(self):\n",
        "        # The super().__init__() call is not necessary in this case\n",
        "\n",
        "    def read_value(self):\n",
        "        # Hardcoded temperature value for demonstration purposes\n",
        "        return 20.0\n",
        "\n",
        "# Define a class named PressureSensor\n",
        "class PressureSensor:\n",
        "    def __init__(self):\n",
        "        # The super().__init__() call is not necessary in this case\n",
        "\n",
        "    def read_value(self):\n",
        "        # Hardcoded pressure value for demonstration purposes\n",
        "        return 100.0\n",
        "\n",
        "# Create an instance of the TempSensor class\n",
        "temperature_sensor = TempSensor()\n",
        "\n",
        "# Read the temperature value using the read_value method\n",
        "temperature_value = temperature_sensor.read_value()\n",
        "\n",
        "# Print the temperature value\n",
        "print(\"Temperature:\", temperature_value)\n",
        "\n",
        "# Create an instance of the PressureSensor class\n",
        "pressure_sensor = PressureSensor()\n",
        "\n",
        "# Read the pressure value using the read_value method\n",
        "pressure_value = pressure_sensor.read_value()\n",
        "\n",
        "# Print the pressure value\n",
        "print(\"Pressure:\", pressure_value)"
      ],
      "metadata": {
        "id": "N-Hy5VSeRNsm",
        "colab": {
          "base_uri": "https://localhost:8080/"
        },
        "outputId": "fb348a85-873f-4fa3-e32d-e2de7a925e10"
      },
      "execution_count": null,
      "outputs": [
        {
          "output_type": "stream",
          "name": "stdout",
          "text": [
            "20.0\n",
            "100.0\n"
          ]
        }
      ]
    },
    {
      "cell_type": "code",
      "source": [
        "# Define an abstract class named Storage\n",
        "class Storage(ABC):\n",
        "    @abstractmethod\n",
        "    def save_data(self, data):\n",
        "        pass\n",
        "\n",
        "    @abstractmethod\n",
        "    def read_data(self):\n",
        "        pass\n",
        "\n",
        "# Create a subclass named FileStorage\n",
        "class FileStorage(Storage):\n",
        "    def save_data(self, data):\n",
        "        # Simulate saving data to a file\n",
        "        print(f\"Data saved to file: {data}\")\n",
        "\n",
        "    def read_data(self):\n",
        "        # Simulate reading data from a file\n",
        "        print(\"Data read from file\")\n",
        "        return \"File Data\"\n",
        "\n",
        "# Create a subclass named DatabaseStorage\n",
        "class DatabaseStorage(Storage):\n",
        "    def save_data(self, data):\n",
        "        # Simulate saving data to a database\n",
        "        print(f\"Data saved to database: {data}\")\n",
        "\n",
        "    def read_data(self):\n",
        "        # Simulate reading data from a database\n",
        "        print(\"Data read from database\")\n",
        "        return \"Database Data\"\n",
        "\n",
        "# Example usage\n",
        "file_storage = FileStorage()\n",
        "file_data = \"This is some data for file storage\"\n",
        "file_storage.save_data(file_data)\n",
        "file_storage.read_data()\n",
        "\n",
        "print(\"\\n\")\n",
        "\n",
        "database_storage = DatabaseStorage()\n",
        "db_data = \"This is some data for database storage\"\n",
        "database_storage.save_data(db_data)\n",
        "database_storage.read_data()"
      ],
      "metadata": {
        "colab": {
          "base_uri": "https://localhost:8080/",
          "height": 139
        },
        "id": "kpdZpS5N6fG5",
        "outputId": "8c3c661f-f4e0-4ebb-f0b9-c230faea805d"
      },
      "execution_count": 6,
      "outputs": [
        {
          "output_type": "stream",
          "name": "stdout",
          "text": [
            "Data saved to file: This is some data for file storage\n",
            "Data read from file\n",
            "\n",
            "\n",
            "Data saved to database: This is some data for database storage\n",
            "Data read from database\n"
          ]
        },
        {
          "output_type": "execute_result",
          "data": {
            "text/plain": [
              "'Database Data'"
            ],
            "application/vnd.google.colaboratory.intrinsic+json": {
              "type": "string"
            }
          },
          "metadata": {},
          "execution_count": 6
        }
      ]
    }
  ]
}